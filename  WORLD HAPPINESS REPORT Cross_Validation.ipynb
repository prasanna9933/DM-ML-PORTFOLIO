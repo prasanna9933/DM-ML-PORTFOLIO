{
 "cells": [
  {
   "cell_type": "markdown",
   "id": "2c3be1a0",
   "metadata": {},
   "source": [
    "# Comparison of Models using cross validation over train_split_test"
   ]
  },
  {
   "cell_type": "code",
   "execution_count": 94,
   "id": "8ae47ed1",
   "metadata": {},
   "outputs": [],
   "source": [
    "import pandas as pd\n",
    "import numpy as np\n",
    "import seaborn as sns\n",
    "import statsmodels.api as sm\n",
    "\n",
    "import matplotlib.pyplot as plt\n",
    "import matplotlib as mlp\n",
    "%matplotlib inline\n",
    "\n",
    "\n",
    "\n",
    "# load dataset\n",
    "dataset = pd.read_csv('data.csv')\n",
    "\n",
    "dataset.drop('Country',axis=1,inplace=True)"
   ]
  },
  {
   "cell_type": "code",
   "execution_count": 95,
   "id": "1a67ee62",
   "metadata": {},
   "outputs": [],
   "source": [
    "x_data = dataset.drop('Happiness Score',axis=1).values\n",
    "y_data = dataset['Happiness Score'].values\n",
    "\n"
   ]
  },
  {
   "cell_type": "code",
   "execution_count": 96,
   "id": "e75fe85f",
   "metadata": {},
   "outputs": [],
   "source": [
    "from sklearn.model_selection import train_test_split\n",
    "x_train, x_test, y_train, y_test = train_test_split(x_data,y_data, test_size=0.25, random_state=1)"
   ]
  },
  {
   "cell_type": "code",
   "execution_count": 97,
   "id": "c8e87286",
   "metadata": {},
   "outputs": [
    {
     "data": {
      "text/plain": [
       "LinearRegression()"
      ]
     },
     "execution_count": 97,
     "metadata": {},
     "output_type": "execute_result"
    }
   ],
   "source": [
    "# LinearRegression\n",
    "from sklearn.linear_model import LinearRegression\n",
    "linearReg = LinearRegression()\n",
    "linearReg.fit(x_train,y_train)"
   ]
  },
  {
   "cell_type": "code",
   "execution_count": 98,
   "id": "2d53ee1d",
   "metadata": {},
   "outputs": [
    {
     "name": "stdout",
     "output_type": "stream",
     "text": [
      "Prediction  of linear regression algorithm : \n",
      "[4.57503725 4.00441054 7.03116656 6.72783934 7.25663296 6.38489964\n",
      " 3.76272287 6.11545017 5.6175773  4.13763043 5.63595074 3.92314188\n",
      " 7.06504884 4.50711512 4.32019107 4.08668548 5.67944979 4.58299889\n",
      " 3.74251112 4.10629824 6.25811097 3.89823817 7.17512956 7.2158682\n",
      " 6.37445558 6.94749946 5.79160588 3.77700394 4.92973247 7.26529951\n",
      " 3.94670977 6.65792159 5.3899962  4.70550339 6.36567663 6.31643809\n",
      " 5.03933115 6.66330889 4.44256499 6.12154764 4.12641815 5.96149773\n",
      " 6.45903457 6.00281438 5.19984903 3.59926366 7.29992129 6.34696898\n",
      " 6.66900066 4.05125738 6.50589755 6.81350496 6.4882799  6.75085974\n",
      " 4.53150752 7.30184584 4.97476573 5.70252462 6.00733924 7.35460393\n",
      " 6.94839094 5.54838665 4.82749585 3.60143268 5.49842279 5.07020969\n",
      " 6.12077643 4.96902117 6.82711173 3.89694315 6.89770115 6.63963286\n",
      " 5.55920158 6.53056235 6.92407996 5.89535071 5.47762292 4.49852609\n",
      " 4.65669994 5.16930639 7.12882837 4.30035527 3.85509164 4.73839912\n",
      " 5.29021114 5.45108989 6.68163485 6.61058851 6.66944536 5.13254589\n",
      " 4.37017716 3.5788644  6.3907601  7.20676043 6.59586764 5.91969643\n",
      " 4.49698226 3.8015975  4.41488361 4.85026793 4.58855049 6.37101585\n",
      " 5.19192355 6.99834765 4.39892546 5.86010311 3.48572681 4.70712876\n",
      " 5.80888647 5.56995678 4.27331681 3.51459508 5.53604989 4.89642654\n",
      " 5.30061475 4.57810946 5.81122268 3.62123266 4.5317473  7.04821539\n",
      " 5.02149882 3.97913517 4.25157658 5.27583519 5.06464206 6.89568956\n",
      " 5.98842686 5.4197463  5.01822009 4.60351575 6.26596841 4.7208486\n",
      " 6.01344508 5.36015042 6.83529162 4.49058595 6.25314063 4.75701901\n",
      " 3.79793017 6.07418947 3.78036283 6.35363786 5.44311974 6.51123586\n",
      " 5.87665243 6.82608094 5.04654085 4.56028048 4.82837013 5.43108481\n",
      " 6.13594252 3.64959019 6.10288264 6.12386095 4.27783033 6.9014259\n",
      " 5.31664001 7.34711577 5.6424029  5.8708172  5.08624266 7.24838374\n",
      " 4.32941214 5.81663239 6.06630649 4.70219577 4.89789948 5.37145318\n",
      " 6.29691835 5.67314591 3.98267232 4.33510925 6.66187691 5.21804178\n",
      " 3.99924899 4.77430601 5.83445717 6.16371762 6.90373455 7.29052672\n",
      " 5.13168445 4.65904143 6.25648401 5.92807777 4.88529738 5.21247392\n",
      " 3.93113164 5.80720194 7.25889042 5.82085934 6.65026812 3.8018339\n",
      " 6.24424709 3.45589217 4.93352516 4.61530991 6.01610382 6.30697411\n",
      " 3.73421853 4.30060628 6.0913279  6.62731669 4.59578654 6.85437333\n",
      " 4.60110911 6.97970248 5.21832124 4.05868427 5.58281727 4.81186687\n",
      " 3.38657391 6.34926605 3.99466358 4.28601304 5.49537565 5.61317979\n",
      " 5.06583127 4.61186347 7.07403458 6.83622846 3.74439613 5.63841328\n",
      " 6.74770546 5.69984281 6.84056911 3.7852487  3.81771002 4.06136487\n",
      " 5.70205193 3.97340008 4.29972268 4.41946285 5.57619317]\n",
      "--------------------------------------------------\n",
      "\n",
      " Score of linear regression algorithm:  0.9830615670275201\n"
     ]
    }
   ],
   "source": [
    "print(\"Prediction  of linear regression algorithm : \",linearReg.predict(x_test),sep='\\n')\n",
    "print(\"--------------------------------------------------\")\n",
    "print(\"\\n Score of linear regression algorithm: \",linearReg.score(x_test,y_test))\n",
    "\n"
   ]
  },
  {
   "cell_type": "code",
   "execution_count": 99,
   "id": "5e308b71",
   "metadata": {},
   "outputs": [
    {
     "name": "stdout",
     "output_type": "stream",
     "text": [
      "Cross Validation Scores:  [0.98380071 0.98079086 0.98290453]\n",
      "Cross Validation scores average:  0.9824987015962684\n",
      "Mean score of 0.98 with a standard deviation of 0.00\n"
     ]
    }
   ],
   "source": [
    "# cross validation for linear regression\n",
    "cv_result = cross_val_score(reg,x_train,y_train,cv=3)\n",
    "print('Cross Validation Scores: ',cv_result)\n",
    "print('Cross Validation scores average: ',np.sum(cv_result)/3)\n",
    "print(\"Mean score of %0.2f with a standard deviation of %0.2f\" % (cv_result.mean(),cv_result.std()))"
   ]
  },
  {
   "cell_type": "code",
   "execution_count": 100,
   "id": "93fe029f",
   "metadata": {},
   "outputs": [
    {
     "name": "stdout",
     "output_type": "stream",
     "text": [
      "Cross Validation Scores:  [0.98316703 0.98465997 0.98386278 0.97836784 0.98188007 0.98497165\n",
      " 0.98002707]\n",
      "Cross Validation scores average:  0.9824194881662355\n",
      "Mean score of 0.98 with a standard deviation of 0.00\n"
     ]
    }
   ],
   "source": [
    "# cross validation for linear regression\n",
    "cv_result = cross_val_score(reg,x_train,y_train,cv=7)\n",
    "print('Cross Validation Scores: ',cv_result)\n",
    "print('Cross Validation scores average: ',np.sum(cv_result)/7)\n",
    "print(\"Mean score of %0.2f with a standard deviation of %0.2f\" % (cv_result.mean(),cv_result.std()))"
   ]
  },
  {
   "cell_type": "code",
   "execution_count": 101,
   "id": "f481eef2",
   "metadata": {},
   "outputs": [
    {
     "name": "stdout",
     "output_type": "stream",
     "text": [
      "Cross Validation Scores:  [0.98294064 0.98444154 0.98406436 0.98210479 0.98560075 0.9761097\n",
      " 0.98136546 0.98692249 0.9768265  0.98193516]\n",
      "Cross Validation scores average:  0.9822311383894922\n",
      "Mean score of 0.98 with a standard deviation of 0.00\n"
     ]
    }
   ],
   "source": [
    "# cross validation for linear regression\n",
    "cv_result = cross_val_score(reg,x_train,y_train,cv=10)\n",
    "print('Cross Validation Scores: ',cv_result)\n",
    "print('Cross Validation scores average: ',np.sum(cv_result)/10)\n",
    "print(\"Mean score of %0.2f with a standard deviation of %0.2f\" % (cv_result.mean(),cv_result.std()))"
   ]
  },
  {
   "cell_type": "code",
   "execution_count": null,
   "id": "eb73ffb3",
   "metadata": {},
   "outputs": [],
   "source": []
  },
  {
   "cell_type": "code",
   "execution_count": 102,
   "id": "821d4d22",
   "metadata": {},
   "outputs": [
    {
     "name": "stdout",
     "output_type": "stream",
     "text": [
      "Prediction  of K-Nearest Neighbours algorithm : \n",
      "[4.62689997 4.13439998 7.18589997 6.5367     7.40229998 6.3356\n",
      " 3.59989999 5.98310002 5.65230001 4.2879     5.6034     3.95850001\n",
      " 7.05930001 4.5981     4.42850001 4.17120001 5.62189997 4.66839997\n",
      " 3.7075     4.2491     6.12500001 3.45150001 7.27959997 7.35450001\n",
      " 6.26760001 6.89860004 5.74030002 3.77200002 5.03739998 7.5074\n",
      " 3.8171     6.5154     5.32449998 4.79270002 6.17220002 6.164\n",
      " 5.11009999 6.60690002 4.5978     6.02879997 4.2661     5.93750003\n",
      " 6.38399999 5.95820001 5.21210003 3.35959999 7.4671     6.21810001\n",
      " 6.4507     4.20130001 6.38299995 6.67010004 6.41349998 6.55340002\n",
      " 4.61209997 7.47369998 5.0852     5.63529996 5.9179     7.5087\n",
      " 6.93130004 5.42520002 4.89449998 3.6231     5.45219999 5.17940002\n",
      " 6.0159     5.02120001 6.5933     3.94240001 6.8928     6.4781\n",
      " 5.48060001 6.35459996 7.07510001 5.8865     5.42989999 4.63060003\n",
      " 4.68380002 5.11140004 7.25259997 4.42600001 3.8343     4.79510002\n",
      " 5.22230003 5.36270001 6.67240002 6.34069997 6.58070002 5.18100004\n",
      " 4.47770004 3.53659999 6.28750001 7.306      6.39679996 5.8506\n",
      " 4.5399     3.72290001 4.52460004 4.88559998 4.72439999 6.20700002\n",
      " 5.21210003 6.93950001 4.5232     5.86929998 3.1765     4.83879999\n",
      " 5.80229997 5.41530001 4.34490001 3.147      5.50440001 4.9854\n",
      " 5.26120001 4.6822     5.81029996 3.51329999 4.5171     7.01500002\n",
      " 5.00810001 4.02050001 4.29860003 5.2373     5.16810004 6.86550003\n",
      " 5.92210001 5.40089998 5.12380004 4.68409997 6.09959999 4.76580002\n",
      " 5.93800001 5.28370001 6.65170002 4.48490003 6.08809998 4.8037\n",
      " 3.80170002 5.97359999 3.74670002 6.27200001 5.42989998 6.46629996\n",
      " 5.8473     6.68050002 5.1612     4.5855     4.98330001 5.36699999\n",
      " 6.06549998 3.5939     5.98620002 6.02820005 4.34910001 6.79659999\n",
      " 5.27600001 7.55160002 5.63829999 5.8557     5.18910002 7.2932\n",
      " 4.37659999 5.78669996 5.9932     4.77950002 5.01010001 5.35889996\n",
      " 6.26530001 5.65179996 3.9496     4.46489999 6.42220001 5.28\n",
      " 4.0933     4.86639999 5.83969998 6.0646     6.89280004 7.5219\n",
      " 5.18940005 4.6823     6.08189998 5.8876     4.93389999 5.25810003\n",
      " 4.0431     5.78819996 7.5162     5.81879998 6.32989998 3.59659999\n",
      " 6.14280002 3.0839     5.08149998 4.6964     5.95069999 6.17270002\n",
      " 3.49069998 4.39310001 5.97750001 6.4789     4.65899999 6.72219998\n",
      " 4.6964     6.96720001 5.26410004 4.21740001 5.4903     4.86090001\n",
      " 3.01210001 6.17590003 4.16149999 4.38239999 5.51170002 5.5753\n",
      " 5.16510004 4.71740003 7.05980001 6.69850002 3.4022     5.52600002\n",
      " 6.53270002 5.67439996 6.64540002 3.8512     3.72140001 4.2378\n",
      " 5.70050001 4.01760001 4.42850001 4.45780002 5.57080001]\n",
      "--------------------------------------------------\n",
      "\n",
      " Score of K-Nearest Neighbours algorithm:  0.9971109973992396\n",
      "--------------------------------------------------\n",
      "10 nn score: 0.9971109973992396\n"
     ]
    }
   ],
   "source": [
    "# K-Nearest Neighbours\n",
    "from sklearn.neighbors import KNeighborsRegressor\n",
    "knn = KNeighborsRegressor(n_neighbors=10) \n",
    "knn.fit(x_train,y_train)\n",
    "\n",
    "prediction = knn.predict(x_test) \n",
    "\n",
    "print(\"Prediction  of K-Nearest Neighbours algorithm : \",knn.predict(x_test),sep='\\n')\n",
    "print(\"--------------------------------------------------\")\n",
    "print(\"\\n Score of K-Nearest Neighbours algorithm: \",knn.score(x_test,y_test))\n",
    "print(\"--------------------------------------------------\")\n",
    "print(\"{} nn score: {}\".format(10,knn.score(x_test,y_test)))\n",
    "\n",
    "\n"
   ]
  },
  {
   "cell_type": "code",
   "execution_count": 103,
   "id": "c63886b0",
   "metadata": {},
   "outputs": [
    {
     "name": "stdout",
     "output_type": "stream",
     "text": [
      "Cross Validation Scores:  [0.99582863 0.992758   0.99560453]\n",
      "Cross Validation scores average:  0.9947303867531674\n",
      "Mean score of 0.99 with a standard deviation of 0.00\n"
     ]
    }
   ],
   "source": [
    "\n",
    "# cross validation for K-Nearest Neighbours\n",
    "cv_result = cross_val_score(knn,x_train,y_train,cv=3)\n",
    "print('Cross Validation Scores: ',cv_result)\n",
    "print('Cross Validation scores average: ',np.sum(cv_result)/3)\n",
    "print(\"Mean score of %0.2f with a standard deviation of %0.2f\" % (cv_result.mean(),cv_result.std()))"
   ]
  },
  {
   "cell_type": "code",
   "execution_count": 104,
   "id": "fe086a92",
   "metadata": {},
   "outputs": [
    {
     "name": "stdout",
     "output_type": "stream",
     "text": [
      "Cross Validation Scores:  [0.99685531 0.99606942 0.99459496 0.99012123 0.9965583  0.99567941\n",
      " 0.99656851]\n",
      "Cross Validation scores average:  0.9952067343284454\n",
      "Mean score of 1.00 with a standard deviation of 0.00\n"
     ]
    }
   ],
   "source": [
    "# cross validation for K-Nearest neighbours\n",
    "cv_result = cross_val_score(knn,x_train,y_train,cv=7)\n",
    "print('Cross Validation Scores: ',cv_result)\n",
    "print('Cross Validation scores average: ',np.sum(cv_result)/7)\n",
    "print(\"Mean score of %0.2f with a standard deviation of %0.2f\" % (cv_result.mean(),cv_result.std()))"
   ]
  },
  {
   "cell_type": "code",
   "execution_count": 105,
   "id": "485f6d5e",
   "metadata": {},
   "outputs": [
    {
     "name": "stdout",
     "output_type": "stream",
     "text": [
      "Cross Validation Scores:  [0.99725319 0.99625797 0.99564187 0.99406546 0.99611467 0.98951561\n",
      " 0.99635224 0.99670361 0.99542481 0.9961946 ]\n",
      "Cross Validation scores average:  0.9953524032321065\n"
     ]
    }
   ],
   "source": [
    "# cross validation for K-Nearest neighbours\n",
    "cv_result = cross_val_score(knn,x_train,y_train,cv=10)\n",
    "print('Cross Validation Scores: ',cv_result)\n",
    "print('Cross Validation scores average: ',np.sum(cv_result)/10)"
   ]
  },
  {
   "cell_type": "code",
   "execution_count": 106,
   "id": "7df580df",
   "metadata": {},
   "outputs": [
    {
     "data": {
      "text/plain": [
       "DecisionTreeRegressor()"
      ]
     },
     "execution_count": 106,
     "metadata": {},
     "output_type": "execute_result"
    }
   ],
   "source": [
    "# Decision Tree regressor\n",
    "from sklearn.tree import DecisionTreeRegressor\n",
    "dt = DecisionTreeRegressor()\n",
    "dt.fit(x_train,y_train) "
   ]
  },
  {
   "cell_type": "code",
   "execution_count": 107,
   "id": "c1e37b30",
   "metadata": {},
   "outputs": [
    {
     "name": "stdout",
     "output_type": "stream",
     "text": [
      "Prediction  of DecisionTree Regressor algorithm : \n",
      "[4.6079998  4.139      7.278      6.436      7.441      6.31\n",
      " 2.523      6.005      5.589      4.308      5.546      3.916\n",
      " 7.054      4.592      4.518      4.166      5.62099981 4.639\n",
      " 3.64400005 4.16800022 6.218      3.597      7.28399996 7.307\n",
      " 6.34399986 6.814      5.7579999  3.775      5.013      7.488\n",
      " 3.856      6.444      5.323      4.871      6.168      6.239\n",
      " 5.125      6.444      4.759      5.995      4.289      5.956\n",
      " 6.298      5.952      5.14       3.231      7.498      6.173\n",
      " 6.436      4.283      6.3        6.701      6.455      6.595\n",
      " 4.575      7.46899986 5.04099989 5.658      5.94       7.561\n",
      " 6.983      5.477      4.96199989 3.678      5.432      5.131\n",
      " 6.028      5.04099989 6.561      4.139      6.907      6.436\n",
      " 5.524      6.44199991 7.039      5.888      5.33599997 4.559\n",
      " 4.671      5.073      7.28399996 4.324      3.931      4.80499983\n",
      " 5.245      5.401      6.67       6.34399986 6.444      5.18100023\n",
      " 4.461      3.656      6.34399986 7.364      6.45200014 5.824\n",
      " 4.51399994 3.802      4.519      4.933      4.852      6.173\n",
      " 5.245      6.927      4.625      5.833      3.303      4.8\n",
      " 5.813      5.43       4.31500006 3.36       5.524      4.996\n",
      " 5.303      4.721      5.882      3.50699997 4.559      6.965\n",
      " 5.093      4.085      4.35       5.212      5.132      6.923\n",
      " 5.89       5.488      5.19500017 4.592      6.106      4.7750001\n",
      " 5.945      5.26900005 6.834      4.548      6.106      4.948\n",
      " 3.681      5.945      3.775      6.298      5.534      6.505\n",
      " 5.824      6.774      5.131      4.655      5.082      5.425\n",
      " 5.995      3.607      5.96400023 5.973      4.41       6.853\n",
      " 5.23000002 7.6        5.813      5.835      5.177      7.363\n",
      " 4.516      5.80999994 6.028      4.839      5.04099989 5.358\n",
      " 6.298      5.743      4.085      4.507      6.483      5.339\n",
      " 4.073      4.758      5.79       6.106      6.907      7.498\n",
      " 5.245      4.70900011 6.086      5.888      4.933      5.23400021\n",
      " 3.995      5.79       7.50400019 5.81899977 6.343      3.663\n",
      " 6.09800005 2.905      5.04099989 4.795      5.92000008 6.168\n",
      " 3.587      4.356      6.028      6.575      4.592      6.834\n",
      " 4.795      6.95100021 5.261      4.286      5.477      4.984\n",
      " 2.905      6.173      4.283      4.49       5.648      5.538\n",
      " 5.198      4.793      6.99300003 6.701      3.334      5.566\n",
      " 6.602      5.766      6.834      3.79500004 3.615      4.289\n",
      " 5.718      3.989      4.461      4.514      5.648     ]\n",
      "--------------------------------------------------\n",
      "\n",
      " Score of DecisionTree Regressor algorithm:  0.9914537631059881\n"
     ]
    }
   ],
   "source": [
    "print(\"Prediction  of DecisionTree Regressor algorithm : \",dt.predict(x_test),sep='\\n')\n",
    "print(\"--------------------------------------------------\")\n",
    "print(\"\\n Score of DecisionTree Regressor algorithm: \",dt.score(x_test,y_test))\n"
   ]
  },
  {
   "cell_type": "code",
   "execution_count": 108,
   "id": "8299f9b8",
   "metadata": {},
   "outputs": [
    {
     "name": "stdout",
     "output_type": "stream",
     "text": [
      "Cross Validation Scores:  [0.99162078 0.9883145  0.99389912]\n",
      "Cross Validation scores average:  0.9912781341666932\n",
      "Mean score of 0.99 with a standard deviation of 0.00\n"
     ]
    }
   ],
   "source": [
    "# cross validation for Decision Tree Regressor\n",
    "cv_result = cross_val_score(dt,x_train,y_train,cv=3)\n",
    "print('Cross Validation Scores: ',cv_result)\n",
    "print('Cross Validation scores average: ',np.sum(cv_result)/3)\n",
    "print(\"Mean score of %0.2f with a standard deviation of %0.2f\" % (cv_result.mean(),cv_result.std()))"
   ]
  },
  {
   "cell_type": "code",
   "execution_count": 109,
   "id": "55c7e341",
   "metadata": {},
   "outputs": [
    {
     "name": "stdout",
     "output_type": "stream",
     "text": [
      "Cross Validation Scores:  [0.99412759 0.98070451 0.98985565 0.98950497 0.99293753 0.98646687\n",
      " 0.99176375]\n",
      "Cross Validation scores average:  0.9893372669210364\n",
      "Mean score of 0.99 with a standard deviation of 0.00\n"
     ]
    }
   ],
   "source": [
    "# cross validation for Decision Tree Regressor\n",
    "cv_result = cross_val_score(dt,x_train,y_train,cv=7)\n",
    "print('Cross Validation Scores: ',cv_result)\n",
    "print('Cross Validation scores average: ',np.sum(cv_result)/7)\n",
    "print(\"Mean score of %0.2f with a standard deviation of %0.2f\" % (cv_result.mean(),cv_result.std()))"
   ]
  },
  {
   "cell_type": "code",
   "execution_count": 110,
   "id": "451a18cf",
   "metadata": {},
   "outputs": [
    {
     "name": "stdout",
     "output_type": "stream",
     "text": [
      "Cross Validation Scores:  [0.99539617 0.97355632 0.99134027 0.98799305 0.98973459 0.98356656\n",
      " 0.99336164 0.99500519 0.9873306  0.98960882]\n",
      "Cross Validation scores average:  0.9886893204615884\n",
      "Mean score of 0.99 with a standard deviation of 0.01\n"
     ]
    }
   ],
   "source": [
    "# cross validation for Decision Tree Regressor\n",
    "cv_result = cross_val_score(dt,x_train,y_train,cv=10)\n",
    "print('Cross Validation Scores: ',cv_result)\n",
    "print('Cross Validation scores average: ',np.sum(cv_result)/10)\n",
    "print(\"Mean score of %0.2f with a standard deviation of %0.2f\" % (cv_result.mean(),cv_result.std()))"
   ]
  },
  {
   "cell_type": "code",
   "execution_count": null,
   "id": "f9e3a538",
   "metadata": {},
   "outputs": [],
   "source": []
  },
  {
   "cell_type": "code",
   "execution_count": null,
   "id": "0579b4cb",
   "metadata": {},
   "outputs": [],
   "source": []
  },
  {
   "cell_type": "code",
   "execution_count": null,
   "id": "f9055f42",
   "metadata": {},
   "outputs": [],
   "source": []
  },
  {
   "cell_type": "code",
   "execution_count": null,
   "id": "22048ce5",
   "metadata": {},
   "outputs": [],
   "source": []
  },
  {
   "cell_type": "code",
   "execution_count": null,
   "id": "5c489e4a",
   "metadata": {},
   "outputs": [],
   "source": []
  }
 ],
 "metadata": {
  "kernelspec": {
   "display_name": "Python 3 (ipykernel)",
   "language": "python",
   "name": "python3"
  },
  "language_info": {
   "codemirror_mode": {
    "name": "ipython",
    "version": 3
   },
   "file_extension": ".py",
   "mimetype": "text/x-python",
   "name": "python",
   "nbconvert_exporter": "python",
   "pygments_lexer": "ipython3",
   "version": "3.9.12"
  }
 },
 "nbformat": 4,
 "nbformat_minor": 5
}
