{
 "cells": [
  {
   "cell_type": "code",
   "execution_count": 49,
   "id": "256b8586",
   "metadata": {},
   "outputs": [],
   "source": [
    "import pandas as pd\n",
    "import numpy as np\n",
    "import seaborn as sns\n",
    "import statsmodels.api as sm\n",
    "\n",
    "import matplotlib.pyplot as plt\n",
    "import matplotlib as mlp\n",
    "%matplotlib inline"
   ]
  },
  {
   "cell_type": "code",
   "execution_count": 50,
   "id": "31c66794",
   "metadata": {},
   "outputs": [],
   "source": [
    "from sklearn.tree import DecisionTreeClassifier"
   ]
  },
  {
   "cell_type": "code",
   "execution_count": 51,
   "id": "e65b33f6",
   "metadata": {},
   "outputs": [],
   "source": [
    "df = pd.read_csv(\"data_2_cat.csv\")"
   ]
  },
  {
   "cell_type": "code",
   "execution_count": 52,
   "id": "09b17d37",
   "metadata": {},
   "outputs": [],
   "source": [
    "df = df.drop(df.columns[0], axis=1)"
   ]
  },
  {
   "cell_type": "code",
   "execution_count": 53,
   "id": "b447b775",
   "metadata": {},
   "outputs": [],
   "source": [
    "df['tier'] = df['tier'].replace(['First','Second'],['1','2'])\n",
    "df['tier'] = df['tier'].astype(float)"
   ]
  },
  {
   "cell_type": "code",
   "execution_count": 54,
   "id": "c61575d8",
   "metadata": {},
   "outputs": [
    {
     "data": {
      "text/html": [
       "<div>\n",
       "<style scoped>\n",
       "    .dataframe tbody tr th:only-of-type {\n",
       "        vertical-align: middle;\n",
       "    }\n",
       "\n",
       "    .dataframe tbody tr th {\n",
       "        vertical-align: top;\n",
       "    }\n",
       "\n",
       "    .dataframe thead th {\n",
       "        text-align: right;\n",
       "    }\n",
       "</style>\n",
       "<table border=\"1\" class=\"dataframe\">\n",
       "  <thead>\n",
       "    <tr style=\"text-align: right;\">\n",
       "      <th></th>\n",
       "      <th>Year</th>\n",
       "      <th>Country</th>\n",
       "      <th>Happiness Rank</th>\n",
       "      <th>Happiness Score</th>\n",
       "      <th>GDP per Capita</th>\n",
       "      <th>Social support</th>\n",
       "      <th>Life Expectancy</th>\n",
       "      <th>Freedom to make life choices</th>\n",
       "      <th>Perceptions of corruption</th>\n",
       "      <th>Generosity</th>\n",
       "      <th>tier</th>\n",
       "    </tr>\n",
       "  </thead>\n",
       "  <tbody>\n",
       "    <tr>\n",
       "      <th>0</th>\n",
       "      <td>2015</td>\n",
       "      <td>Switzerland</td>\n",
       "      <td>1</td>\n",
       "      <td>7.587</td>\n",
       "      <td>1.39651</td>\n",
       "      <td>1.34951</td>\n",
       "      <td>0.94143</td>\n",
       "      <td>0.66557</td>\n",
       "      <td>0.41978</td>\n",
       "      <td>0.29678</td>\n",
       "      <td>1.0</td>\n",
       "    </tr>\n",
       "    <tr>\n",
       "      <th>1</th>\n",
       "      <td>2015</td>\n",
       "      <td>Iceland</td>\n",
       "      <td>2</td>\n",
       "      <td>7.561</td>\n",
       "      <td>1.30232</td>\n",
       "      <td>1.40223</td>\n",
       "      <td>0.94784</td>\n",
       "      <td>0.62877</td>\n",
       "      <td>0.14145</td>\n",
       "      <td>0.43630</td>\n",
       "      <td>1.0</td>\n",
       "    </tr>\n",
       "    <tr>\n",
       "      <th>2</th>\n",
       "      <td>2015</td>\n",
       "      <td>Denmark</td>\n",
       "      <td>3</td>\n",
       "      <td>7.527</td>\n",
       "      <td>1.32548</td>\n",
       "      <td>1.36058</td>\n",
       "      <td>0.87464</td>\n",
       "      <td>0.64938</td>\n",
       "      <td>0.48357</td>\n",
       "      <td>0.34139</td>\n",
       "      <td>1.0</td>\n",
       "    </tr>\n",
       "    <tr>\n",
       "      <th>3</th>\n",
       "      <td>2015</td>\n",
       "      <td>Norway</td>\n",
       "      <td>4</td>\n",
       "      <td>7.522</td>\n",
       "      <td>1.45900</td>\n",
       "      <td>1.33095</td>\n",
       "      <td>0.88521</td>\n",
       "      <td>0.66973</td>\n",
       "      <td>0.36503</td>\n",
       "      <td>0.34699</td>\n",
       "      <td>1.0</td>\n",
       "    </tr>\n",
       "    <tr>\n",
       "      <th>4</th>\n",
       "      <td>2015</td>\n",
       "      <td>Canada</td>\n",
       "      <td>5</td>\n",
       "      <td>7.427</td>\n",
       "      <td>1.32629</td>\n",
       "      <td>1.32261</td>\n",
       "      <td>0.90563</td>\n",
       "      <td>0.63297</td>\n",
       "      <td>0.32957</td>\n",
       "      <td>0.45811</td>\n",
       "      <td>1.0</td>\n",
       "    </tr>\n",
       "  </tbody>\n",
       "</table>\n",
       "</div>"
      ],
      "text/plain": [
       "   Year      Country  Happiness Rank  Happiness Score  GDP per Capita  \\\n",
       "0  2015  Switzerland               1            7.587         1.39651   \n",
       "1  2015      Iceland               2            7.561         1.30232   \n",
       "2  2015      Denmark               3            7.527         1.32548   \n",
       "3  2015       Norway               4            7.522         1.45900   \n",
       "4  2015       Canada               5            7.427         1.32629   \n",
       "\n",
       "   Social support  Life Expectancy  Freedom to make life choices  \\\n",
       "0         1.34951          0.94143                       0.66557   \n",
       "1         1.40223          0.94784                       0.62877   \n",
       "2         1.36058          0.87464                       0.64938   \n",
       "3         1.33095          0.88521                       0.66973   \n",
       "4         1.32261          0.90563                       0.63297   \n",
       "\n",
       "   Perceptions of corruption  Generosity  tier  \n",
       "0                    0.41978     0.29678   1.0  \n",
       "1                    0.14145     0.43630   1.0  \n",
       "2                    0.48357     0.34139   1.0  \n",
       "3                    0.36503     0.34699   1.0  \n",
       "4                    0.32957     0.45811   1.0  "
      ]
     },
     "execution_count": 54,
     "metadata": {},
     "output_type": "execute_result"
    }
   ],
   "source": [
    "df.head()"
   ]
  },
  {
   "cell_type": "code",
   "execution_count": 55,
   "id": "5aea6a92",
   "metadata": {},
   "outputs": [],
   "source": [
    "from sklearn.metrics import classification_report, confusion_matrix"
   ]
  },
  {
   "cell_type": "code",
   "execution_count": 56,
   "id": "adb80492",
   "metadata": {},
   "outputs": [],
   "source": [
    "df_copy = df"
   ]
  },
  {
   "cell_type": "code",
   "execution_count": 57,
   "id": "78e89389",
   "metadata": {},
   "outputs": [],
   "source": [
    "df_copy = df_copy.drop('Country',axis=1)"
   ]
  },
  {
   "cell_type": "code",
   "execution_count": 58,
   "id": "c8fb8be9",
   "metadata": {},
   "outputs": [],
   "source": [
    "# Creating independent and dependent variables\n",
    "X = df_copy.drop('tier',axis=1)\n",
    "y = df_copy['tier']"
   ]
  },
  {
   "cell_type": "code",
   "execution_count": 59,
   "id": "df347073",
   "metadata": {},
   "outputs": [
    {
     "name": "stdout",
     "output_type": "stream",
     "text": [
      "Train Data: (744, 9), (744,)\n",
      "Train Data: (187, 9), (187,)\n"
     ]
    }
   ],
   "source": [
    "from sklearn.model_selection import train_test_split\n",
    "# Splitting the data into training and testing set\n",
    "X_train, X_test, y_train, y_test = train_test_split(X, y, test_size=0.2, random_state=24)\n",
    "print(f\"Train Data: {X_train.shape}, {y_train.shape}\")\n",
    "print(f\"Train Data: {X_test.shape}, {y_test.shape}\")"
   ]
  },
  {
   "cell_type": "markdown",
   "id": "dc2b1eb3",
   "metadata": {},
   "source": [
    "Feature engineering"
   ]
  },
  {
   "cell_type": "code",
   "execution_count": 60,
   "id": "66dbfaea",
   "metadata": {},
   "outputs": [
    {
     "data": {
      "text/plain": [
       "Year                              int64\n",
       "Happiness Rank                    int64\n",
       "Happiness Score                 float64\n",
       "GDP per Capita                  float64\n",
       "Social support                  float64\n",
       "Life Expectancy                 float64\n",
       "Freedom to make life choices    float64\n",
       "Perceptions of corruption       float64\n",
       "Generosity                      float64\n",
       "dtype: object"
      ]
     },
     "execution_count": 60,
     "metadata": {},
     "output_type": "execute_result"
    }
   ],
   "source": [
    "X_train.dtypes"
   ]
  },
  {
   "cell_type": "code",
   "execution_count": 61,
   "id": "92b10cb1",
   "metadata": {
    "scrolled": true
   },
   "outputs": [
    {
     "data": {
      "text/html": [
       "<div>\n",
       "<style scoped>\n",
       "    .dataframe tbody tr th:only-of-type {\n",
       "        vertical-align: middle;\n",
       "    }\n",
       "\n",
       "    .dataframe tbody tr th {\n",
       "        vertical-align: top;\n",
       "    }\n",
       "\n",
       "    .dataframe thead th {\n",
       "        text-align: right;\n",
       "    }\n",
       "</style>\n",
       "<table border=\"1\" class=\"dataframe\">\n",
       "  <thead>\n",
       "    <tr style=\"text-align: right;\">\n",
       "      <th></th>\n",
       "      <th>Year</th>\n",
       "      <th>Happiness Rank</th>\n",
       "      <th>Happiness Score</th>\n",
       "      <th>GDP per Capita</th>\n",
       "      <th>Social support</th>\n",
       "      <th>Life Expectancy</th>\n",
       "      <th>Freedom to make life choices</th>\n",
       "      <th>Perceptions of corruption</th>\n",
       "      <th>Generosity</th>\n",
       "    </tr>\n",
       "  </thead>\n",
       "  <tbody>\n",
       "    <tr>\n",
       "      <th>223</th>\n",
       "      <td>2016</td>\n",
       "      <td>66</td>\n",
       "      <td>5.648</td>\n",
       "      <td>1.143720</td>\n",
       "      <td>0.756950</td>\n",
       "      <td>0.661890</td>\n",
       "      <td>0.461450</td>\n",
       "      <td>0.052030</td>\n",
       "      <td>0.369510</td>\n",
       "    </tr>\n",
       "    <tr>\n",
       "      <th>392</th>\n",
       "      <td>2017</td>\n",
       "      <td>78</td>\n",
       "      <td>5.279</td>\n",
       "      <td>0.951484</td>\n",
       "      <td>1.137854</td>\n",
       "      <td>0.541452</td>\n",
       "      <td>0.260288</td>\n",
       "      <td>0.057472</td>\n",
       "      <td>0.319931</td>\n",
       "    </tr>\n",
       "    <tr>\n",
       "      <th>442</th>\n",
       "      <td>2017</td>\n",
       "      <td>128</td>\n",
       "      <td>4.180</td>\n",
       "      <td>0.603049</td>\n",
       "      <td>0.904780</td>\n",
       "      <td>0.048642</td>\n",
       "      <td>0.447706</td>\n",
       "      <td>0.130062</td>\n",
       "      <td>0.201237</td>\n",
       "    </tr>\n",
       "    <tr>\n",
       "      <th>698</th>\n",
       "      <td>2019</td>\n",
       "      <td>73</td>\n",
       "      <td>5.523</td>\n",
       "      <td>1.051000</td>\n",
       "      <td>1.361000</td>\n",
       "      <td>0.871000</td>\n",
       "      <td>0.197000</td>\n",
       "      <td>0.080000</td>\n",
       "      <td>0.142000</td>\n",
       "    </tr>\n",
       "    <tr>\n",
       "      <th>579</th>\n",
       "      <td>2018</td>\n",
       "      <td>110</td>\n",
       "      <td>4.623</td>\n",
       "      <td>0.720000</td>\n",
       "      <td>1.034000</td>\n",
       "      <td>0.441000</td>\n",
       "      <td>0.626000</td>\n",
       "      <td>0.174000</td>\n",
       "      <td>0.230000</td>\n",
       "    </tr>\n",
       "  </tbody>\n",
       "</table>\n",
       "</div>"
      ],
      "text/plain": [
       "     Year  Happiness Rank  Happiness Score  GDP per Capita  Social support  \\\n",
       "223  2016              66            5.648        1.143720        0.756950   \n",
       "392  2017              78            5.279        0.951484        1.137854   \n",
       "442  2017             128            4.180        0.603049        0.904780   \n",
       "698  2019              73            5.523        1.051000        1.361000   \n",
       "579  2018             110            4.623        0.720000        1.034000   \n",
       "\n",
       "     Life Expectancy  Freedom to make life choices  Perceptions of corruption  \\\n",
       "223         0.661890                      0.461450                   0.052030   \n",
       "392         0.541452                      0.260288                   0.057472   \n",
       "442         0.048642                      0.447706                   0.130062   \n",
       "698         0.871000                      0.197000                   0.080000   \n",
       "579         0.441000                      0.626000                   0.174000   \n",
       "\n",
       "     Generosity  \n",
       "223    0.369510  \n",
       "392    0.319931  \n",
       "442    0.201237  \n",
       "698    0.142000  \n",
       "579    0.230000  "
      ]
     },
     "execution_count": 61,
     "metadata": {},
     "output_type": "execute_result"
    }
   ],
   "source": [
    "X_train.head()"
   ]
  },
  {
   "cell_type": "markdown",
   "id": "87e7a3c7",
   "metadata": {},
   "source": [
    "# # Decision Tree Classifier with criterion gini index"
   ]
  },
  {
   "cell_type": "code",
   "execution_count": 63,
   "id": "248ffa12",
   "metadata": {},
   "outputs": [],
   "source": [
    "# import DecisionTreeClassifier\n",
    "\n",
    "from sklearn.tree import DecisionTreeClassifier"
   ]
  },
  {
   "cell_type": "code",
   "execution_count": 64,
   "id": "c1d04f25",
   "metadata": {},
   "outputs": [
    {
     "data": {
      "text/plain": [
       "DecisionTreeClassifier(max_depth=3, random_state=0)"
      ]
     },
     "execution_count": 64,
     "metadata": {},
     "output_type": "execute_result"
    }
   ],
   "source": [
    "# instantiate the DecisionTreeClassifier model with criterion gini index\n",
    "\n",
    "clf_gini = DecisionTreeClassifier(criterion='gini', max_depth=3, random_state=0)\n",
    "\n",
    "\n",
    "# fit the model\n",
    "clf_gini.fit(X_train, y_train)"
   ]
  },
  {
   "cell_type": "markdown",
   "id": "106c6a98",
   "metadata": {},
   "source": [
    "#Predict the Test set results with criterion gini index"
   ]
  },
  {
   "cell_type": "code",
   "execution_count": 65,
   "id": "d4b60719",
   "metadata": {},
   "outputs": [],
   "source": [
    "y_pred_gini = clf_gini.predict(X_test)"
   ]
  },
  {
   "cell_type": "markdown",
   "id": "e2595a1c",
   "metadata": {},
   "source": [
    "Check accuracy score with criterion gini index"
   ]
  },
  {
   "cell_type": "code",
   "execution_count": 66,
   "id": "3c0a1a96",
   "metadata": {},
   "outputs": [
    {
     "name": "stdout",
     "output_type": "stream",
     "text": [
      "Model accuracy score with criterion gini index: 1.0000\n"
     ]
    }
   ],
   "source": [
    "from sklearn.metrics import accuracy_score\n",
    "\n",
    "print('Model accuracy score with criterion gini index: {0:0.4f}'. format(accuracy_score(y_test, y_pred_gini)))"
   ]
  },
  {
   "cell_type": "markdown",
   "id": "2ed64b0a",
   "metadata": {},
   "source": [
    "Here, y_test are the true class labels and y_pred_gini are the predicted class labels in the test-set."
   ]
  },
  {
   "cell_type": "markdown",
   "id": "c0f0c4de",
   "metadata": {},
   "source": [
    "Compare the train-set and test-set accuracy\n",
    "Now, I will compare the train-set and test-set accuracy to check for overfitting.\n",
    "\n"
   ]
  },
  {
   "cell_type": "code",
   "execution_count": 67,
   "id": "6e832831",
   "metadata": {},
   "outputs": [
    {
     "data": {
      "text/plain": [
       "array([1., 1., 2., 1., 2., 1., 1., 2., 1., 2., 1., 1., 2., 1., 2., 1., 1.,\n",
       "       1., 1., 2., 2., 1., 2., 1., 1., 1., 2., 2., 2., 2., 2., 1., 1., 2.,\n",
       "       1., 1., 1., 2., 1., 2., 2., 2., 2., 2., 2., 1., 2., 2., 1., 1., 2.,\n",
       "       1., 1., 2., 2., 1., 1., 1., 2., 2., 1., 2., 1., 2., 1., 2., 2., 2.,\n",
       "       2., 2., 2., 2., 2., 1., 1., 2., 1., 2., 2., 1., 2., 1., 1., 1., 1.,\n",
       "       1., 2., 1., 1., 1., 2., 1., 2., 2., 1., 1., 2., 2., 1., 2., 1., 2.,\n",
       "       1., 2., 1., 2., 2., 1., 1., 2., 2., 1., 2., 1., 2., 1., 1., 2., 1.,\n",
       "       1., 2., 2., 2., 1., 1., 2., 2., 1., 2., 1., 2., 1., 2., 2., 1., 1.,\n",
       "       1., 1., 1., 2., 1., 1., 2., 2., 1., 2., 2., 2., 2., 2., 1., 1., 2.,\n",
       "       1., 2., 1., 1., 1., 1., 2., 2., 2., 1., 2., 2., 2., 2., 1., 2., 2.,\n",
       "       1., 1., 1., 1., 1., 2., 1., 1., 1., 1., 2., 1., 1., 2., 1., 1., 1.,\n",
       "       1., 1., 1., 2., 2., 1., 1., 1., 1., 2., 1., 1., 1., 1., 2., 1., 2.,\n",
       "       1., 1., 1., 2., 2., 2., 2., 2., 1., 1., 1., 2., 1., 2., 2., 1., 1.,\n",
       "       2., 1., 1., 2., 2., 2., 1., 1., 1., 2., 1., 1., 2., 1., 2., 1., 2.,\n",
       "       1., 1., 2., 1., 2., 2., 1., 2., 2., 2., 2., 2., 2., 1., 2., 1., 2.,\n",
       "       2., 1., 2., 1., 1., 2., 2., 1., 2., 1., 1., 2., 2., 2., 2., 2., 1.,\n",
       "       2., 2., 2., 2., 1., 2., 1., 2., 1., 2., 1., 1., 2., 1., 2., 1., 1.,\n",
       "       2., 2., 2., 2., 2., 1., 1., 1., 1., 2., 2., 2., 1., 1., 2., 2., 1.,\n",
       "       2., 1., 1., 2., 2., 2., 2., 2., 2., 2., 1., 1., 2., 1., 2., 2., 2.,\n",
       "       2., 1., 1., 2., 2., 2., 1., 1., 1., 1., 1., 2., 1., 1., 2., 1., 1.,\n",
       "       2., 2., 1., 1., 1., 1., 1., 2., 1., 1., 1., 2., 2., 1., 2., 1., 2.,\n",
       "       2., 1., 1., 1., 1., 1., 2., 1., 1., 1., 1., 2., 2., 1., 1., 1., 1.,\n",
       "       1., 2., 2., 2., 1., 2., 1., 1., 2., 2., 1., 1., 1., 2., 1., 1., 2.,\n",
       "       2., 2., 1., 2., 1., 1., 2., 1., 1., 2., 1., 2., 1., 2., 1., 1., 1.,\n",
       "       2., 2., 1., 1., 1., 1., 1., 1., 1., 2., 1., 1., 2., 2., 1., 1., 1.,\n",
       "       2., 2., 2., 2., 2., 1., 1., 2., 2., 2., 1., 2., 2., 1., 2., 1., 2.,\n",
       "       2., 1., 1., 2., 1., 1., 2., 1., 1., 2., 1., 1., 2., 1., 1., 1., 2.,\n",
       "       2., 2., 2., 1., 2., 1., 2., 2., 2., 2., 1., 1., 1., 1., 2., 1., 2.,\n",
       "       2., 2., 2., 1., 1., 1., 1., 1., 2., 2., 1., 1., 2., 1., 1., 2., 2.,\n",
       "       2., 2., 2., 2., 1., 2., 2., 2., 2., 1., 1., 2., 1., 1., 1., 1., 1.,\n",
       "       1., 2., 1., 2., 2., 1., 2., 1., 1., 1., 1., 2., 2., 2., 1., 2., 2.,\n",
       "       2., 1., 1., 1., 2., 2., 1., 2., 1., 1., 2., 1., 2., 2., 2., 1., 1.,\n",
       "       1., 1., 1., 1., 1., 1., 1., 1., 2., 2., 2., 2., 1., 1., 1., 1., 1.,\n",
       "       1., 2., 2., 1., 2., 1., 2., 1., 2., 2., 2., 1., 1., 2., 1., 1., 1.,\n",
       "       2., 1., 1., 2., 1., 2., 2., 1., 2., 2., 2., 1., 2., 2., 1., 1., 2.,\n",
       "       1., 2., 2., 1., 2., 2., 2., 2., 2., 1., 2., 1., 2., 1., 1., 1., 1.,\n",
       "       2., 1., 2., 2., 1., 1., 1., 2., 2., 2., 1., 2., 1., 1., 1., 2., 1.,\n",
       "       2., 1., 1., 1., 1., 1., 1., 1., 1., 1., 2., 2., 2., 2., 2., 1., 2.,\n",
       "       1., 2., 2., 1., 1., 1., 2., 1., 1., 2., 2., 1., 2., 1., 1., 1., 1.,\n",
       "       1., 1., 1., 1., 1., 2., 2., 1., 1., 2., 1., 1., 2., 1., 1., 2., 2.,\n",
       "       1., 1., 2., 2., 1., 2., 1., 2., 2., 2., 2., 2., 1., 1., 2., 2., 1.,\n",
       "       2., 2., 2., 2., 2., 1., 1., 1., 2., 1., 1., 2., 1., 1., 1., 1., 2.,\n",
       "       1., 2., 1., 1., 2., 1., 2., 1., 2., 1., 1., 1., 2., 2., 1., 2., 2.,\n",
       "       1., 1., 1., 1., 2., 1., 2., 2., 2., 1., 1., 2., 2.])"
      ]
     },
     "execution_count": 67,
     "metadata": {},
     "output_type": "execute_result"
    }
   ],
   "source": [
    "y_pred_train_gini = clf_gini.predict(X_train)\n",
    "\n",
    "y_pred_train_gini"
   ]
  },
  {
   "cell_type": "code",
   "execution_count": 68,
   "id": "710de515",
   "metadata": {},
   "outputs": [
    {
     "name": "stdout",
     "output_type": "stream",
     "text": [
      "Training-set accuracy score: 1.0000\n"
     ]
    }
   ],
   "source": [
    "print('Training-set accuracy score: {0:0.4f}'. format(accuracy_score(y_train, y_pred_train_gini)))"
   ]
  },
  {
   "cell_type": "markdown",
   "id": "c468ce12",
   "metadata": {},
   "source": [
    "Check for overfitting and underfitting"
   ]
  },
  {
   "cell_type": "code",
   "execution_count": 69,
   "id": "835f8116",
   "metadata": {},
   "outputs": [
    {
     "name": "stdout",
     "output_type": "stream",
     "text": [
      "Training set score: 1.0000\n",
      "Test set score: 1.0000\n"
     ]
    }
   ],
   "source": [
    " #print the scores on training and test set\n",
    "\n",
    "print('Training set score: {:.4f}'.format(clf_gini.score(X_train, y_train)))\n",
    "\n",
    "print('Test set score: {:.4f}'.format(clf_gini.score(X_test, y_test)))"
   ]
  },
  {
   "cell_type": "markdown",
   "id": "c8405e6a",
   "metadata": {},
   "source": [
    "Here, the training-set accuracy score is 1.0000 while the test-set accuracy to be 1.0000. These two values are quite same. So, there is no sign of overfitting."
   ]
  },
  {
   "cell_type": "markdown",
   "id": "374f5593",
   "metadata": {},
   "source": [
    "# Visualize decision-trees"
   ]
  },
  {
   "cell_type": "code",
   "execution_count": 70,
   "id": "3e9d96ca",
   "metadata": {},
   "outputs": [
    {
     "data": {
      "text/plain": [
       "[Text(334.8, 326.15999999999997, 'X[1] <= 78.5\\ngini = 0.499\\nsamples = 744\\nvalue = [392, 352]'),\n",
       " Text(167.4, 108.72000000000003, 'gini = 0.0\\nsamples = 392\\nvalue = [392, 0]'),\n",
       " Text(502.20000000000005, 108.72000000000003, 'gini = 0.0\\nsamples = 352\\nvalue = [0, 352]')]"
      ]
     },
     "execution_count": 70,
     "metadata": {},
     "output_type": "execute_result"
    },
    {
     "data": {
      "image/png": "[encoded data removed]",
      "text/plain": [
       "<Figure size 864x576 with 1 Axes>"
      ]
     },
     "metadata": {
      "needs_background": "light"
     },
     "output_type": "display_data"
    }
   ],
   "source": [
    "plt.figure(figsize=(12,8))\n",
    "\n",
    "from sklearn import tree\n",
    "\n",
    "tree.plot_tree(clf_gini.fit(X_train, y_train)) "
   ]
  },
  {
   "cell_type": "markdown",
   "id": "72c95ecb",
   "metadata": {},
   "source": [
    "# Decision Tree Classifier with criterion entropy"
   ]
  },
  {
   "cell_type": "code",
   "execution_count": 75,
   "id": "b2a10393",
   "metadata": {},
   "outputs": [
    {
     "data": {
      "text/plain": [
       "DecisionTreeClassifier(criterion='entropy', max_depth=3, random_state=0)"
      ]
     },
     "execution_count": 75,
     "metadata": {},
     "output_type": "execute_result"
    }
   ],
   "source": [
    "# instantiate the DecisionTreeClassifier model with criterion entropy\n",
    "\n",
    "clf_en = DecisionTreeClassifier(criterion='entropy', max_depth=3, random_state=0)\n",
    "\n",
    "\n",
    "# fit the model\n",
    "clf_en.fit(X_train, y_train)"
   ]
  },
  {
   "cell_type": "markdown",
   "id": "edac0935",
   "metadata": {},
   "source": [
    "Predict the Test set results with criterion entropy¶"
   ]
  },
  {
   "cell_type": "code",
   "execution_count": 76,
   "id": "08963b5d",
   "metadata": {},
   "outputs": [],
   "source": [
    "y_pred_en = clf_en.predict(X_test)"
   ]
  },
  {
   "cell_type": "markdown",
   "id": "93cac202",
   "metadata": {},
   "source": [
    "Check accuracy score with criterion entrop"
   ]
  },
  {
   "cell_type": "code",
   "execution_count": 77,
   "id": "442a6d22",
   "metadata": {},
   "outputs": [
    {
     "name": "stdout",
     "output_type": "stream",
     "text": [
      "Model accuracy score with criterion entropy: 1.0000\n"
     ]
    }
   ],
   "source": [
    "from sklearn.metrics import accuracy_score\n",
    "\n",
    "print('Model accuracy score with criterion entropy: {0:0.4f}'. format(accuracy_score(y_test, y_pred_en)))"
   ]
  },
  {
   "cell_type": "markdown",
   "id": "3994a3cb",
   "metadata": {},
   "source": [
    "Compare the train-set and test-set accuracy¶"
   ]
  },
  {
   "cell_type": "code",
   "execution_count": 78,
   "id": "103a18b5",
   "metadata": {},
   "outputs": [
    {
     "data": {
      "text/plain": [
       "array([1., 1., 2., 1., 2., 1., 1., 2., 1., 2., 1., 1., 2., 1., 2., 1., 1.,\n",
       "       1., 1., 2., 2., 1., 2., 1., 1., 1., 2., 2., 2., 2., 2., 1., 1., 2.,\n",
       "       1., 1., 1., 2., 1., 2., 2., 2., 2., 2., 2., 1., 2., 2., 1., 1., 2.,\n",
       "       1., 1., 2., 2., 1., 1., 1., 2., 2., 1., 2., 1., 2., 1., 2., 2., 2.,\n",
       "       2., 2., 2., 2., 2., 1., 1., 2., 1., 2., 2., 1., 2., 1., 1., 1., 1.,\n",
       "       1., 2., 1., 1., 1., 2., 1., 2., 2., 1., 1., 2., 2., 1., 2., 1., 2.,\n",
       "       1., 2., 1., 2., 2., 1., 1., 2., 2., 1., 2., 1., 2., 1., 1., 2., 1.,\n",
       "       1., 2., 2., 2., 1., 1., 2., 2., 1., 2., 1., 2., 1., 2., 2., 1., 1.,\n",
       "       1., 1., 1., 2., 1., 1., 2., 2., 1., 2., 2., 2., 2., 2., 1., 1., 2.,\n",
       "       1., 2., 1., 1., 1., 1., 2., 2., 2., 1., 2., 2., 2., 2., 1., 2., 2.,\n",
       "       1., 1., 1., 1., 1., 2., 1., 1., 1., 1., 2., 1., 1., 2., 1., 1., 1.,\n",
       "       1., 1., 1., 2., 2., 1., 1., 1., 1., 2., 1., 1., 1., 1., 2., 1., 2.,\n",
       "       1., 1., 1., 2., 2., 2., 2., 2., 1., 1., 1., 2., 1., 2., 2., 1., 1.,\n",
       "       2., 1., 1., 2., 2., 2., 1., 1., 1., 2., 1., 1., 2., 1., 2., 1., 2.,\n",
       "       1., 1., 2., 1., 2., 2., 1., 2., 2., 2., 2., 2., 2., 1., 2., 1., 2.,\n",
       "       2., 1., 2., 1., 1., 2., 2., 1., 2., 1., 1., 2., 2., 2., 2., 2., 1.,\n",
       "       2., 2., 2., 2., 1., 2., 1., 2., 1., 2., 1., 1., 2., 1., 2., 1., 1.,\n",
       "       2., 2., 2., 2., 2., 1., 1., 1., 1., 2., 2., 2., 1., 1., 2., 2., 1.,\n",
       "       2., 1., 1., 2., 2., 2., 2., 2., 2., 2., 1., 1., 2., 1., 2., 2., 2.,\n",
       "       2., 1., 1., 2., 2., 2., 1., 1., 1., 1., 1., 2., 1., 1., 2., 1., 1.,\n",
       "       2., 2., 1., 1., 1., 1., 1., 2., 1., 1., 1., 2., 2., 1., 2., 1., 2.,\n",
       "       2., 1., 1., 1., 1., 1., 2., 1., 1., 1., 1., 2., 2., 1., 1., 1., 1.,\n",
       "       1., 2., 2., 2., 1., 2., 1., 1., 2., 2., 1., 1., 1., 2., 1., 1., 2.,\n",
       "       2., 2., 1., 2., 1., 1., 2., 1., 1., 2., 1., 2., 1., 2., 1., 1., 1.,\n",
       "       2., 2., 1., 1., 1., 1., 1., 1., 1., 2., 1., 1., 2., 2., 1., 1., 1.,\n",
       "       2., 2., 2., 2., 2., 1., 1., 2., 2., 2., 1., 2., 2., 1., 2., 1., 2.,\n",
       "       2., 1., 1., 2., 1., 1., 2., 1., 1., 2., 1., 1., 2., 1., 1., 1., 2.,\n",
       "       2., 2., 2., 1., 2., 1., 2., 2., 2., 2., 1., 1., 1., 1., 2., 1., 2.,\n",
       "       2., 2., 2., 1., 1., 1., 1., 1., 2., 2., 1., 1., 2., 1., 1., 2., 2.,\n",
       "       2., 2., 2., 2., 1., 2., 2., 2., 2., 1., 1., 2., 1., 1., 1., 1., 1.,\n",
       "       1., 2., 1., 2., 2., 1., 2., 1., 1., 1., 1., 2., 2., 2., 1., 2., 2.,\n",
       "       2., 1., 1., 1., 2., 2., 1., 2., 1., 1., 2., 1., 2., 2., 2., 1., 1.,\n",
       "       1., 1., 1., 1., 1., 1., 1., 1., 2., 2., 2., 2., 1., 1., 1., 1., 1.,\n",
       "       1., 2., 2., 1., 2., 1., 2., 1., 2., 2., 2., 1., 1., 2., 1., 1., 1.,\n",
       "       2., 1., 1., 2., 1., 2., 2., 1., 2., 2., 2., 1., 2., 2., 1., 1., 2.,\n",
       "       1., 2., 2., 1., 2., 2., 2., 2., 2., 1., 2., 1., 2., 1., 1., 1., 1.,\n",
       "       2., 1., 2., 2., 1., 1., 1., 2., 2., 2., 1., 2., 1., 1., 1., 2., 1.,\n",
       "       2., 1., 1., 1., 1., 1., 1., 1., 1., 1., 2., 2., 2., 2., 2., 1., 2.,\n",
       "       1., 2., 2., 1., 1., 1., 2., 1., 1., 2., 2., 1., 2., 1., 1., 1., 1.,\n",
       "       1., 1., 1., 1., 1., 2., 2., 1., 1., 2., 1., 1., 2., 1., 1., 2., 2.,\n",
       "       1., 1., 2., 2., 1., 2., 1., 2., 2., 2., 2., 2., 1., 1., 2., 2., 1.,\n",
       "       2., 2., 2., 2., 2., 1., 1., 1., 2., 1., 1., 2., 1., 1., 1., 1., 2.,\n",
       "       1., 2., 1., 1., 2., 1., 2., 1., 2., 1., 1., 1., 2., 2., 1., 2., 2.,\n",
       "       1., 1., 1., 1., 2., 1., 2., 2., 2., 1., 1., 2., 2.])"
      ]
     },
     "execution_count": 78,
     "metadata": {},
     "output_type": "execute_result"
    }
   ],
   "source": [
    "y_pred_train_en = clf_en.predict(X_train)\n",
    "\n",
    "y_pred_train_en"
   ]
  },
  {
   "cell_type": "code",
   "execution_count": 79,
   "id": "246475b7",
   "metadata": {},
   "outputs": [
    {
     "name": "stdout",
     "output_type": "stream",
     "text": [
      "Training-set accuracy score: 1.0000\n"
     ]
    }
   ],
   "source": [
    "print('Training-set accuracy score: {0:0.4f}'. format(accuracy_score(y_train, y_pred_train_en)))"
   ]
  },
  {
   "cell_type": "markdown",
   "id": "5ffa0377",
   "metadata": {},
   "source": [
    "Check for overfitting and underfitting"
   ]
  },
  {
   "cell_type": "code",
   "execution_count": 80,
   "id": "a7a7fceb",
   "metadata": {},
   "outputs": [
    {
     "name": "stdout",
     "output_type": "stream",
     "text": [
      "Training set score: 1.0000\n",
      "Test set score: 1.0000\n"
     ]
    }
   ],
   "source": [
    "# print the scores on training and test set\n",
    "\n",
    "print('Training set score: {:.4f}'.format(clf_en.score(X_train, y_train)))\n",
    "\n",
    "print('Test set score: {:.4f}'.format(clf_en.score(X_test, y_test)))"
   ]
  },
  {
   "cell_type": "code",
   "execution_count": 81,
   "id": "c7ff7fd5",
   "metadata": {
    "scrolled": true
   },
   "outputs": [
    {
     "data": {
      "text/plain": [
       "[Text(334.8, 326.15999999999997, 'X[1] <= 78.5\\nentropy = 0.998\\nsamples = 744\\nvalue = [392, 352]'),\n",
       " Text(167.4, 108.72000000000003, 'entropy = 0.0\\nsamples = 392\\nvalue = [392, 0]'),\n",
       " Text(502.20000000000005, 108.72000000000003, 'entropy = 0.0\\nsamples = 352\\nvalue = [0, 352]')]"
      ]
     },
     "execution_count": 81,
     "metadata": {},
     "output_type": "execute_result"
    },
    {
     "data": {
      "image/png": "[encoded data removed]",
      "text/plain": [
       "<Figure size 864x576 with 1 Axes>"
      ]
     },
     "metadata": {
      "needs_background": "light"
     },
     "output_type": "display_data"
    }
   ],
   "source": [
    "plt.figure(figsize=(12,8))\n",
    "\n",
    "from sklearn import tree\n",
    "\n",
    "tree.plot_tree(clf_en.fit(X_train, y_train)) "
   ]
  },
  {
   "cell_type": "markdown",
   "id": "d39dc3bb",
   "metadata": {},
   "source": [
    "# confusion matrix"
   ]
  },
  {
   "cell_type": "code",
   "execution_count": 86,
   "id": "aeff1916",
   "metadata": {},
   "outputs": [
    {
     "name": "stdout",
     "output_type": "stream",
     "text": [
      "Confusion matrix\n",
      "\n",
      " [[ 76   0]\n",
      " [  0 111]]\n"
     ]
    }
   ],
   "source": [
    "# Print the Confusion Matrix and slice it into four pieces\n",
    "\n",
    "from sklearn.metrics import confusion_matrix\n",
    "\n",
    "cm = confusion_matrix(y_test, y_pred_en)\n",
    "\n",
    "print('Confusion matrix\\n\\n', cm)"
   ]
  },
  {
   "cell_type": "markdown",
   "id": "da4085f9",
   "metadata": {},
   "source": [
    "# classification report"
   ]
  },
  {
   "cell_type": "code",
   "execution_count": 87,
   "id": "28fd1ff8",
   "metadata": {},
   "outputs": [
    {
     "name": "stdout",
     "output_type": "stream",
     "text": [
      "              precision    recall  f1-score   support\n",
      "\n",
      "         1.0       1.00      1.00      1.00        76\n",
      "         2.0       1.00      1.00      1.00       111\n",
      "\n",
      "    accuracy                           1.00       187\n",
      "   macro avg       1.00      1.00      1.00       187\n",
      "weighted avg       1.00      1.00      1.00       187\n",
      "\n"
     ]
    }
   ],
   "source": [
    "from sklearn.metrics import classification_report\n",
    "\n",
    "print(classification_report(y_test, y_pred_en))"
   ]
  },
  {
   "cell_type": "markdown",
   "id": "b8c9c0cc",
   "metadata": {},
   "source": [
    "1.In this project, I build a Decision-Tree Classifier model to predict world happiness report.\n",
    "\n",
    "2.I build two models, one with criterion gini index and another one with criterion entropy. The model yields a very good performance as indicated by the model accuracy in both the cases which was found to be 1.0000.\n",
    "\n",
    "3.In the model with criterion gini index, the training-set accuracy score is 1.0000 while the test-set accuracy to be 1.0000. These two values are quite same. So, there is no sign of overfitting.\n",
    "\n",
    "4.Similarly, in the model with criterion entropy, the training-set accuracy score is 1.0000 while the test-set accuracy to be 1.0000.We get the same values as in the case with criterion gini. So, there is no sign of overfitting.\n",
    "\n",
    "5.In both the cases, the training-set and test-set accuracy score is the same. It may happen because of  dataset.\n",
    "The confusion matrix and classification report yields very good model performance."
   ]
  },
  {
   "cell_type": "code",
   "execution_count": null,
   "id": "215f688a",
   "metadata": {},
   "outputs": [],
   "source": []
  }
 ],
 "metadata": {
  "kernelspec": {
   "display_name": "Python 3 (ipykernel)",
   "language": "python",
   "name": "python3"
  },
  "language_info": {
   "codemirror_mode": {
    "name": "ipython",
    "version": 3
   },
   "file_extension": ".py",
   "mimetype": "text/x-python",
   "name": "python",
   "nbconvert_exporter": "python",
   "pygments_lexer": "ipython3",
   "version": "3.9.7"
  }
 },
 "nbformat": 4,
 "nbformat_minor": 5
}
