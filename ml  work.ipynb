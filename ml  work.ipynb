{
 "cells": [
  {
   "cell_type": "code",
   "execution_count": 2,
   "id": "132a2bca",
   "metadata": {},
   "outputs": [],
   "source": [
    "import numpy as np # linear algebra\n",
    "import pandas as pd # data processing, CSV file I/O (e.g. pd.read_csv)\n"
   ]
  },
  {
   "cell_type": "code",
   "execution_count": 3,
   "id": "e2a46f6d",
   "metadata": {},
   "outputs": [],
   "source": [
    "# import packages\n",
    "import matplotlib.pyplot as plt\n",
    "import seaborn as sns\n",
    "import warnings\n",
    "from sklearn.decomposition import PCA\n",
    "from sklearn.preprocessing import StandardScaler\n",
    "from sklearn.linear_model import LinearRegression"
   ]
  },
  {
   "cell_type": "code",
   "execution_count": 4,
   "id": "ac9b4a83",
   "metadata": {},
   "outputs": [],
   "source": [
    "# read all data\n",
    "data2015 = pd.read_csv('2015.csv')\n",
    "data2016 = pd.read_csv('2016.csv')\n",
    "data2017 = pd.read_csv('2017.csv')\n",
    "data2018 = pd.read_csv('2018.csv')\n",
    "data2019 = pd.read_csv('2019.csv')"
   ]
  },
  {
   "cell_type": "code",
   "execution_count": 6,
   "id": "62655058",
   "metadata": {},
   "outputs": [
    {
     "data": {
      "text/html": [
       "<div>\n",
       "<style scoped>\n",
       "    .dataframe tbody tr th:only-of-type {\n",
       "        vertical-align: middle;\n",
       "    }\n",
       "\n",
       "    .dataframe tbody tr th {\n",
       "        vertical-align: top;\n",
       "    }\n",
       "\n",
       "    .dataframe thead th {\n",
       "        text-align: right;\n",
       "    }\n",
       "</style>\n",
       "<table border=\"1\" class=\"dataframe\">\n",
       "  <thead>\n",
       "    <tr style=\"text-align: right;\">\n",
       "      <th></th>\n",
       "      <th>2015</th>\n",
       "      <th>2016</th>\n",
       "      <th>2017</th>\n",
       "      <th>2018</th>\n",
       "      <th>2019</th>\n",
       "    </tr>\n",
       "  </thead>\n",
       "  <tbody>\n",
       "    <tr>\n",
       "      <th>0</th>\n",
       "      <td>Country</td>\n",
       "      <td>Country</td>\n",
       "      <td>Country</td>\n",
       "      <td>Overall rank</td>\n",
       "      <td>Overall rank</td>\n",
       "    </tr>\n",
       "    <tr>\n",
       "      <th>1</th>\n",
       "      <td>Region</td>\n",
       "      <td>Region</td>\n",
       "      <td>Happiness.Rank</td>\n",
       "      <td>Country or region</td>\n",
       "      <td>Country or region</td>\n",
       "    </tr>\n",
       "    <tr>\n",
       "      <th>2</th>\n",
       "      <td>Happiness Rank</td>\n",
       "      <td>Happiness Rank</td>\n",
       "      <td>Happiness.Score</td>\n",
       "      <td>Score</td>\n",
       "      <td>Score</td>\n",
       "    </tr>\n",
       "    <tr>\n",
       "      <th>3</th>\n",
       "      <td>Happiness Score</td>\n",
       "      <td>Happiness Score</td>\n",
       "      <td>Whisker.high</td>\n",
       "      <td>GDP per capita</td>\n",
       "      <td>GDP per capita</td>\n",
       "    </tr>\n",
       "    <tr>\n",
       "      <th>4</th>\n",
       "      <td>Standard Error</td>\n",
       "      <td>Lower Confidence Interval</td>\n",
       "      <td>Whisker.low</td>\n",
       "      <td>Social support</td>\n",
       "      <td>Social support</td>\n",
       "    </tr>\n",
       "    <tr>\n",
       "      <th>5</th>\n",
       "      <td>Economy (GDP per Capita)</td>\n",
       "      <td>Upper Confidence Interval</td>\n",
       "      <td>Economy..GDP.per.Capita.</td>\n",
       "      <td>Healthy life expectancy</td>\n",
       "      <td>Healthy life expectancy</td>\n",
       "    </tr>\n",
       "    <tr>\n",
       "      <th>6</th>\n",
       "      <td>Family</td>\n",
       "      <td>Economy (GDP per Capita)</td>\n",
       "      <td>Family</td>\n",
       "      <td>Freedom to make life choices</td>\n",
       "      <td>Freedom to make life choices</td>\n",
       "    </tr>\n",
       "    <tr>\n",
       "      <th>7</th>\n",
       "      <td>Health (Life Expectancy)</td>\n",
       "      <td>Family</td>\n",
       "      <td>Health..Life.Expectancy.</td>\n",
       "      <td>Generosity</td>\n",
       "      <td>Generosity</td>\n",
       "    </tr>\n",
       "    <tr>\n",
       "      <th>8</th>\n",
       "      <td>Freedom</td>\n",
       "      <td>Health (Life Expectancy)</td>\n",
       "      <td>Freedom</td>\n",
       "      <td>Perceptions of corruption</td>\n",
       "      <td>Perceptions of corruption</td>\n",
       "    </tr>\n",
       "    <tr>\n",
       "      <th>9</th>\n",
       "      <td>Trust (Government Corruption)</td>\n",
       "      <td>Freedom</td>\n",
       "      <td>Generosity</td>\n",
       "      <td>None</td>\n",
       "      <td>None</td>\n",
       "    </tr>\n",
       "    <tr>\n",
       "      <th>10</th>\n",
       "      <td>Generosity</td>\n",
       "      <td>Trust (Government Corruption)</td>\n",
       "      <td>Trust..Government.Corruption.</td>\n",
       "      <td>None</td>\n",
       "      <td>None</td>\n",
       "    </tr>\n",
       "    <tr>\n",
       "      <th>11</th>\n",
       "      <td>Dystopia Residual</td>\n",
       "      <td>Generosity</td>\n",
       "      <td>Dystopia.Residual</td>\n",
       "      <td>None</td>\n",
       "      <td>None</td>\n",
       "    </tr>\n",
       "    <tr>\n",
       "      <th>12</th>\n",
       "      <td>None</td>\n",
       "      <td>Dystopia Residual</td>\n",
       "      <td>None</td>\n",
       "      <td>None</td>\n",
       "      <td>None</td>\n",
       "    </tr>\n",
       "  </tbody>\n",
       "</table>\n",
       "</div>"
      ],
      "text/plain": [
       "                             2015                           2016  \\\n",
       "0                         Country                        Country   \n",
       "1                          Region                         Region   \n",
       "2                  Happiness Rank                 Happiness Rank   \n",
       "3                 Happiness Score                Happiness Score   \n",
       "4                  Standard Error      Lower Confidence Interval   \n",
       "5        Economy (GDP per Capita)      Upper Confidence Interval   \n",
       "6                          Family       Economy (GDP per Capita)   \n",
       "7        Health (Life Expectancy)                         Family   \n",
       "8                         Freedom       Health (Life Expectancy)   \n",
       "9   Trust (Government Corruption)                        Freedom   \n",
       "10                     Generosity  Trust (Government Corruption)   \n",
       "11              Dystopia Residual                     Generosity   \n",
       "12                           None              Dystopia Residual   \n",
       "\n",
       "                             2017                          2018  \\\n",
       "0                         Country                  Overall rank   \n",
       "1                  Happiness.Rank             Country or region   \n",
       "2                 Happiness.Score                         Score   \n",
       "3                    Whisker.high                GDP per capita   \n",
       "4                     Whisker.low                Social support   \n",
       "5        Economy..GDP.per.Capita.       Healthy life expectancy   \n",
       "6                          Family  Freedom to make life choices   \n",
       "7        Health..Life.Expectancy.                    Generosity   \n",
       "8                         Freedom     Perceptions of corruption   \n",
       "9                      Generosity                          None   \n",
       "10  Trust..Government.Corruption.                          None   \n",
       "11              Dystopia.Residual                          None   \n",
       "12                           None                          None   \n",
       "\n",
       "                            2019  \n",
       "0                   Overall rank  \n",
       "1              Country or region  \n",
       "2                          Score  \n",
       "3                 GDP per capita  \n",
       "4                 Social support  \n",
       "5        Healthy life expectancy  \n",
       "6   Freedom to make life choices  \n",
       "7                     Generosity  \n",
       "8      Perceptions of corruption  \n",
       "9                           None  \n",
       "10                          None  \n",
       "11                          None  \n",
       "12                          None  "
      ]
     },
     "execution_count": 6,
     "metadata": {},
     "output_type": "execute_result"
    }
   ],
   "source": [
    "# check columns for each data\n",
    "df_col = pd.DataFrame([data2015.columns,data2016.columns,data2017.columns,data2018.columns,data2019.columns]).T\n",
    "df_col.columns = ['2015','2016','2017','2018','2019']\n",
    "df_col"
   ]
  },
  {
   "cell_type": "markdown",
   "id": "0e437d55",
   "metadata": {},
   "source": [
    "# From the dataframe above, we only discuss the key variables. We select Happiness Score as the dependent variable y, and set [economy,family,health,freedom,trust,generosity] as variable X.\n"
   ]
  },
  {
   "cell_type": "code",
   "execution_count": 7,
   "id": "de0de573",
   "metadata": {},
   "outputs": [],
   "source": [
    "# clean the data and reset their names\n",
    "data2015 = data2015.drop(['Region','Standard Error'],axis=1)\n",
    "data2015.columns = ['country','Hrank','Hscore','economy','family','health','freedom','trust','generosity','residual']\n",
    "\n",
    "data2016 = data2016.drop(data2016.columns[[4,5]],axis=1)\n",
    "data2016.drop(['Region'],axis=1,inplace=True)\n",
    "data2016.columns = data2015.columns\n",
    "\n",
    "data2017 = data2017.drop(data2017.columns[3:5],axis=1)\n",
    "trust = data2017.iloc[:,8]\n",
    "data2017 = data2017.drop(data2017.columns[8],axis=1)\n",
    "data2017.insert(7,'trust',trust)\n",
    "data2017.columns = ['country','Hrank','Hscore','economy','family','health','freedom','trust','generosity','residual']\n",
    "\n",
    "trust = data2018.iloc[:,8]\n",
    "data2018 = data2018.drop(data2018.columns[8],axis=1)\n",
    "data2018.insert(7,'trust',trust)\n",
    "data2018.columns = ['Hrank','country','Hscore','economy','family','health','freedom','trust','generosity']\n",
    "\n",
    "trust = data2019.iloc[:,8]\n",
    "data2019 = data2019.drop(data2019.columns[8],axis=1)\n",
    "data2019.insert(7,'trust',trust)\n",
    "data2019.columns = ['Hrank','country','Hscore','economy','family','health','freedom','trust','generosity']"
   ]
  },
  {
   "cell_type": "code",
   "execution_count": 8,
   "id": "46c28784",
   "metadata": {},
   "outputs": [
    {
     "name": "stdout",
     "output_type": "stream",
     "text": [
      "0\n",
      "0\n",
      "0\n",
      "1\n",
      "0\n"
     ]
    }
   ],
   "source": [
    "# check and delete nulls\n",
    "print(data2015.isnull().sum().sum())\n",
    "print(data2016.isnull().sum().sum())\n",
    "print(data2017.isnull().sum().sum())\n",
    "print(data2018.isnull().sum().sum())\n",
    "print(data2019.isnull().sum().sum())"
   ]
  },
  {
   "cell_type": "code",
   "execution_count": 9,
   "id": "5f6a32ab",
   "metadata": {},
   "outputs": [
    {
     "name": "stdout",
     "output_type": "stream",
     "text": [
      "Hrank         0\n",
      "country       0\n",
      "Hscore        0\n",
      "economy       0\n",
      "family        0\n",
      "health        0\n",
      "freedom       0\n",
      "trust         1\n",
      "generosity    0\n",
      "dtype: int64\n"
     ]
    }
   ],
   "source": [
    "print(data2018.isnull().sum())"
   ]
  },
  {
   "cell_type": "code",
   "execution_count": 10,
   "id": "ba0bc1ed",
   "metadata": {},
   "outputs": [],
   "source": [
    "data2018.trust = data2018.trust.fillna(data2018.trust.mean())"
   ]
  },
  {
   "cell_type": "code",
   "execution_count": 11,
   "id": "6846eb35",
   "metadata": {},
   "outputs": [
    {
     "name": "stdout",
     "output_type": "stream",
     "text": [
      "The Most Happinest Countries:\n"
     ]
    },
    {
     "data": {
      "text/html": [
       "<div>\n",
       "<style scoped>\n",
       "    .dataframe tbody tr th:only-of-type {\n",
       "        vertical-align: middle;\n",
       "    }\n",
       "\n",
       "    .dataframe tbody tr th {\n",
       "        vertical-align: top;\n",
       "    }\n",
       "\n",
       "    .dataframe thead th {\n",
       "        text-align: right;\n",
       "    }\n",
       "</style>\n",
       "<table border=\"1\" class=\"dataframe\">\n",
       "  <thead>\n",
       "    <tr style=\"text-align: right;\">\n",
       "      <th></th>\n",
       "      <th>2015</th>\n",
       "      <th>2016</th>\n",
       "      <th>2017</th>\n",
       "      <th>2018</th>\n",
       "      <th>2019</th>\n",
       "    </tr>\n",
       "  </thead>\n",
       "  <tbody>\n",
       "    <tr>\n",
       "      <th>1</th>\n",
       "      <td>Switzerland</td>\n",
       "      <td>Denmark</td>\n",
       "      <td>Norway</td>\n",
       "      <td>Finland</td>\n",
       "      <td>Finland</td>\n",
       "    </tr>\n",
       "    <tr>\n",
       "      <th>2</th>\n",
       "      <td>Iceland</td>\n",
       "      <td>Switzerland</td>\n",
       "      <td>Denmark</td>\n",
       "      <td>Norway</td>\n",
       "      <td>Denmark</td>\n",
       "    </tr>\n",
       "    <tr>\n",
       "      <th>3</th>\n",
       "      <td>Denmark</td>\n",
       "      <td>Iceland</td>\n",
       "      <td>Iceland</td>\n",
       "      <td>Denmark</td>\n",
       "      <td>Norway</td>\n",
       "    </tr>\n",
       "    <tr>\n",
       "      <th>4</th>\n",
       "      <td>Norway</td>\n",
       "      <td>Norway</td>\n",
       "      <td>Switzerland</td>\n",
       "      <td>Iceland</td>\n",
       "      <td>Iceland</td>\n",
       "    </tr>\n",
       "    <tr>\n",
       "      <th>5</th>\n",
       "      <td>Canada</td>\n",
       "      <td>Finland</td>\n",
       "      <td>Finland</td>\n",
       "      <td>Switzerland</td>\n",
       "      <td>Netherlands</td>\n",
       "    </tr>\n",
       "  </tbody>\n",
       "</table>\n",
       "</div>"
      ],
      "text/plain": [
       "          2015         2016         2017         2018         2019\n",
       "1  Switzerland      Denmark       Norway      Finland      Finland\n",
       "2      Iceland  Switzerland      Denmark       Norway      Denmark\n",
       "3      Denmark      Iceland      Iceland      Denmark       Norway\n",
       "4       Norway       Norway  Switzerland      Iceland      Iceland\n",
       "5       Canada      Finland      Finland  Switzerland  Netherlands"
      ]
     },
     "execution_count": 11,
     "metadata": {},
     "output_type": "execute_result"
    }
   ],
   "source": [
    "# find the most happinest countries\n",
    "print('The Most Happinest Countries:')\n",
    "df = pd.DataFrame(columns = df_col.columns)\n",
    "df.iloc[:,0] = data2015['country'][:5]\n",
    "df.iloc[:,1] = data2016['country'][:5]\n",
    "df.iloc[:,2] = data2017['country'][:5]\n",
    "df.iloc[:,3] = data2018['country'][:5]\n",
    "df.iloc[:,4] = data2019['country'][:5]\n",
    "df.set_index(np.arange(1,6),inplace = True)\n",
    "df"
   ]
  },
  {
   "cell_type": "code",
   "execution_count": 12,
   "id": "9f1a3586",
   "metadata": {},
   "outputs": [
    {
     "name": "stdout",
     "output_type": "stream",
     "text": [
      "The Most Excellent Country in each Aspect：\n"
     ]
    },
    {
     "data": {
      "text/html": [
       "<div>\n",
       "<style scoped>\n",
       "    .dataframe tbody tr th:only-of-type {\n",
       "        vertical-align: middle;\n",
       "    }\n",
       "\n",
       "    .dataframe tbody tr th {\n",
       "        vertical-align: top;\n",
       "    }\n",
       "\n",
       "    .dataframe thead th {\n",
       "        text-align: right;\n",
       "    }\n",
       "</style>\n",
       "<table border=\"1\" class=\"dataframe\">\n",
       "  <thead>\n",
       "    <tr style=\"text-align: right;\">\n",
       "      <th></th>\n",
       "      <th>2015</th>\n",
       "      <th>2016</th>\n",
       "      <th>2017</th>\n",
       "      <th>2018</th>\n",
       "      <th>2019</th>\n",
       "    </tr>\n",
       "  </thead>\n",
       "  <tbody>\n",
       "    <tr>\n",
       "      <th>economy</th>\n",
       "      <td>Qatar</td>\n",
       "      <td>Qatar</td>\n",
       "      <td>Qatar</td>\n",
       "      <td>United Arab Emirates</td>\n",
       "      <td>Qatar</td>\n",
       "    </tr>\n",
       "    <tr>\n",
       "      <th>family</th>\n",
       "      <td>Iceland</td>\n",
       "      <td>Iceland</td>\n",
       "      <td>Iceland</td>\n",
       "      <td>Iceland</td>\n",
       "      <td>Iceland</td>\n",
       "    </tr>\n",
       "    <tr>\n",
       "      <th>health</th>\n",
       "      <td>Singapore</td>\n",
       "      <td>Hong Kong</td>\n",
       "      <td>Singapore</td>\n",
       "      <td>Hong Kong</td>\n",
       "      <td>Singapore</td>\n",
       "    </tr>\n",
       "    <tr>\n",
       "      <th>freedom</th>\n",
       "      <td>Norway</td>\n",
       "      <td>Uzbekistan</td>\n",
       "      <td>Uzbekistan</td>\n",
       "      <td>Uzbekistan</td>\n",
       "      <td>Uzbekistan</td>\n",
       "    </tr>\n",
       "    <tr>\n",
       "      <th>trust</th>\n",
       "      <td>Rwanda</td>\n",
       "      <td>Rwanda</td>\n",
       "      <td>Singapore</td>\n",
       "      <td>Singapore</td>\n",
       "      <td>Singapore</td>\n",
       "    </tr>\n",
       "    <tr>\n",
       "      <th>generosity</th>\n",
       "      <td>Myanmar</td>\n",
       "      <td>Myanmar</td>\n",
       "      <td>Myanmar</td>\n",
       "      <td>Myanmar</td>\n",
       "      <td>Myanmar</td>\n",
       "    </tr>\n",
       "  </tbody>\n",
       "</table>\n",
       "</div>"
      ],
      "text/plain": [
       "                 2015        2016        2017                  2018  \\\n",
       "economy         Qatar       Qatar       Qatar  United Arab Emirates   \n",
       "family        Iceland     Iceland     Iceland               Iceland   \n",
       "health      Singapore   Hong Kong   Singapore             Hong Kong   \n",
       "freedom        Norway  Uzbekistan  Uzbekistan            Uzbekistan   \n",
       "trust          Rwanda      Rwanda   Singapore             Singapore   \n",
       "generosity    Myanmar     Myanmar     Myanmar               Myanmar   \n",
       "\n",
       "                  2019  \n",
       "economy          Qatar  \n",
       "family         Iceland  \n",
       "health       Singapore  \n",
       "freedom     Uzbekistan  \n",
       "trust        Singapore  \n",
       "generosity     Myanmar  "
      ]
     },
     "execution_count": 12,
     "metadata": {},
     "output_type": "execute_result"
    }
   ],
   "source": [
    "# find countries with the highest score for each aspect\n",
    "l = [data2015,data2016,data2017,data2018,data2019]\n",
    "print('The Most Excellent Country in each Aspect：')\n",
    "df2 = pd.DataFrame(columns = df_col.columns,index = data2018.columns[3:])\n",
    "for i in range(6):\n",
    "    for j in range(5):\n",
    "        index = data2018.columns[3+i]\n",
    "        df2.iloc[i,j] = l[j][l[j][index]==l[j][index].max()].country.values[0]\n",
    "df2"
   ]
  },
  {
   "cell_type": "code",
   "execution_count": 13,
   "id": "c00ad337",
   "metadata": {},
   "outputs": [
    {
     "data": {
      "image/png": "[encoded data removed]",
      "text/plain": [
       "<Figure size 1296x648 with 7 Axes>"
      ]
     },
     "metadata": {
      "needs_background": "light"
     },
     "output_type": "display_data"
    }
   ],
   "source": [
    "# Draw boxplots to show how do the variables vary between years\n",
    "fig,axs = plt.subplots(2,4,figsize=(18,9))\n",
    "a = 0\n",
    "b = 0\n",
    "for i in range(7):\n",
    "    index = data2018.columns[i+2]\n",
    "    axs[a][b].boxplot([data2015[index],data2016[index],data2017[index],data2018[index],data2019[index]],labels=df_col.columns,patch_artist=True)\n",
    "    axs[a][b].set_title(index)\n",
    "    if b==3:\n",
    "        b=0\n",
    "        a+=1\n",
    "    else:\n",
    "        b+=1\n",
    "plt.delaxes(axs[1][3])\n",
    "plt.show()"
   ]
  },
  {
   "cell_type": "code",
   "execution_count": 14,
   "id": "f378a4cd",
   "metadata": {},
   "outputs": [
    {
     "data": {
      "image/png": "[encoded data removed]",
      "text/plain": [
       "<Figure size 1224x576 with 10 Axes>"
      ]
     },
     "metadata": {
      "needs_background": "light"
     },
     "output_type": "display_data"
    }
   ],
   "source": [
    "# Draw heatmaps to show how the variables correlate between years\n",
    "a = 0\n",
    "b = 0\n",
    "fig,axs =plt.subplots(2,3,figsize=(17,8))\n",
    "for i in range(5):\n",
    "    sns.heatmap(l[i][data2018.columns[2:9]].corr(),ax=axs[a][b])\n",
    "    axs[a][b].set_title(df_col.columns[i])\n",
    "    if b==2:\n",
    "        b=0\n",
    "        a+=1\n",
    "    else:\n",
    "        b+=1\n",
    "plt.subplots_adjust(wspace=0.2, hspace=0.5)                     \n",
    "plt.delaxes()\n",
    "plt.show()"
   ]
  },
  {
   "cell_type": "markdown",
   "id": "0ab0a8e3",
   "metadata": {},
   "source": [
    "# #We can see that economy, health and family have the most impact on happinest score. Then we model to study the impact mechanism."
   ]
  },
  {
   "cell_type": "code",
   "execution_count": 15,
   "id": "1d771b6d",
   "metadata": {},
   "outputs": [],
   "source": [
    "# Set X and Y\n",
    "list_x = list(data2018.columns[3:])\n",
    "X_2015 = data2015[list_x]\n",
    "X_2016 = data2016[list_x]\n",
    "X_2017 = data2017[list_x]\n",
    "X_2018 = data2018[list_x]\n",
    "X_2019 = data2019[list_x]\n",
    "X_train = pd.concat([X_2015,X_2016,X_2017,X_2018]).reset_index().drop('index',axis=1)\n",
    "X_test = pd.DataFrame(X_2019)\n",
    "\n",
    "y_train = pd.concat([data2015.Hscore,data2016.Hscore,data2017.Hscore,data2018.Hscore]).reset_index().drop('index',axis=1)\n",
    "y_test = pd.DataFrame(data2019.Hscore)"
   ]
  },
  {
   "cell_type": "markdown",
   "id": "2fd76011",
   "metadata": {},
   "source": [
    "# We first do principle component analysis and then do linear regression to predict happiness score.¶"
   ]
  },
  {
   "cell_type": "code",
   "execution_count": 16,
   "id": "d697cef3",
   "metadata": {},
   "outputs": [],
   "source": [
    "# Standardize the training set \n",
    "ss = StandardScaler()\n",
    "X_train_std = ss.fit_transform(X_train)"
   ]
  },
  {
   "cell_type": "code",
   "execution_count": 17,
   "id": "1be10671",
   "metadata": {},
   "outputs": [],
   "source": [
    "# Extract principle component, named X_train1\n",
    "pca = PCA(n_components=4)\n",
    "X_train1 = pca.fit_transform(X_train_std)\n",
    "X_train1 = pd.DataFrame(X_train1)"
   ]
  },
  {
   "cell_type": "code",
   "execution_count": 18,
   "id": "a2d8324c",
   "metadata": {},
   "outputs": [
    {
     "name": "stdout",
     "output_type": "stream",
     "text": [
      "Regression Coefficient： [[-0.58891465 -0.09530444  0.03447312 -0.07095749]]\n",
      "\n",
      "Training Score： 0.7612180717626387\n",
      "\n",
      "Explained Variance Ratio:  [0.45998679 0.22405181 0.11362814 0.10852681]\n",
      "\n",
      "PCA Coefficient: \n",
      "[[-5.04540167e-01 -4.38525886e-01 -4.99068131e-01 -4.16926862e-01\n",
      "  -3.32172570e-01 -1.41062546e-01]\n",
      " [-2.92426007e-01 -2.62886154e-01 -2.51268727e-01  3.23279845e-01\n",
      "   4.78484606e-01  6.69913838e-01]\n",
      " [ 3.10615109e-01 -5.76579849e-01  2.95845924e-01 -4.81962889e-01\n",
      "   4.91543852e-01 -9.82116937e-02]\n",
      " [-1.63522319e-01 -6.47215500e-04 -2.77943949e-01  3.76542931e-01\n",
      "   4.96728207e-01 -7.12378904e-01]]\n"
     ]
    }
   ],
   "source": [
    "# Use X_train2 to do linear regression\n",
    "reg = LinearRegression()\n",
    "reg.fit(X_train1,y_train)\n",
    "\n",
    "# Come to modeling result\n",
    "print('Regression Coefficient：',reg.coef_)\n",
    "print('')\n",
    "print('Training Score：',reg.score(X_train1,y_train))\n",
    "print('')\n",
    "print('Explained Variance Ratio: ',pca.explained_variance_ratio_)  \n",
    "print('')\n",
    "print('PCA Coefficient: ')\n",
    "print(pca.components_)"
   ]
  },
  {
   "cell_type": "code",
   "execution_count": 19,
   "id": "92506339",
   "metadata": {},
   "outputs": [
    {
     "name": "stdout",
     "output_type": "stream",
     "text": [
      "Testing Score： 0.7703559980827357\n"
     ]
    }
   ],
   "source": [
    "# Check modeling score on testing set \n",
    "X_test_std = ss.fit_transform(X_test)\n",
    "X_test1 = pca.fit_transform(X_test_std)\n",
    "X_test1 = pd.DataFrame(X_test1)\n",
    "print('Testing Score：',reg.score(X_test1,y_test))"
   ]
  },
  {
   "cell_type": "code",
   "execution_count": null,
   "id": "fadbb7be",
   "metadata": {},
   "outputs": [],
   "source": []
  }
 ],
 "metadata": {
  "kernelspec": {
   "display_name": "Python 3 (ipykernel)",
   "language": "python",
   "name": "python3"
  },
  "language_info": {
   "codemirror_mode": {
    "name": "ipython",
    "version": 3
   },
   "file_extension": ".py",
   "mimetype": "text/x-python",
   "name": "python",
   "nbconvert_exporter": "python",
   "pygments_lexer": "ipython3",
   "version": "3.9.7"
  }
 },
 "nbformat": 4,
 "nbformat_minor": 5
}
